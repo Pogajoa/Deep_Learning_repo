{
 "cells": [
  {
   "cell_type": "code",
   "execution_count": 2,
   "metadata": {},
   "outputs": [],
   "source": [
    "import tensorflow as tf\n",
    "import numpy as np\n",
    "import pandas as pd   \n",
    "import os   \n",
    "from tensorflow.keras.layers import GlobalAveragePooling2D, Dense, Dropout\n",
    "from tensorflow.keras.models import Sequential\n",
    "from tensorflow.keras.applications.vgg16 import VGG16\n",
    "from tensorflow.keras.applications.vgg16 import preprocess_input  \n",
    "from tensorflow.keras.preprocessing.image import ImageDataGenerator  "
   ]
  },
  {
   "cell_type": "code",
   "execution_count": 6,
   "metadata": {},
   "outputs": [],
   "source": [
    "seed = 13\n",
    "tf.random.set_seed(seed)\n",
    "np.random.seed(seed)"
   ]
  },
  {
   "cell_type": "code",
   "execution_count": 7,
   "metadata": {},
   "outputs": [
    {
     "name": "stdout",
     "output_type": "stream",
     "text": [
      "/home/aquila/dev_ws/DeepLearning/src\n"
     ]
    }
   ],
   "source": [
    "!pwd"
   ]
  },
  {
   "cell_type": "code",
   "execution_count": 8,
   "metadata": {},
   "outputs": [
    {
     "data": {
      "text/html": [
       "<div>\n",
       "<style scoped>\n",
       "    .dataframe tbody tr th:only-of-type {\n",
       "        vertical-align: middle;\n",
       "    }\n",
       "\n",
       "    .dataframe tbody tr th {\n",
       "        vertical-align: top;\n",
       "    }\n",
       "\n",
       "    .dataframe thead th {\n",
       "        text-align: right;\n",
       "    }\n",
       "</style>\n",
       "<table border=\"1\" class=\"dataframe\">\n",
       "  <thead>\n",
       "    <tr style=\"text-align: right;\">\n",
       "      <th></th>\n",
       "      <th>file</th>\n",
       "      <th>label</th>\n",
       "    </tr>\n",
       "  </thead>\n",
       "  <tbody>\n",
       "    <tr>\n",
       "      <th>0</th>\n",
       "      <td>cat.3136.jpg</td>\n",
       "      <td>cat</td>\n",
       "    </tr>\n",
       "    <tr>\n",
       "      <th>1</th>\n",
       "      <td>cat.719.jpg</td>\n",
       "      <td>cat</td>\n",
       "    </tr>\n",
       "    <tr>\n",
       "      <th>2</th>\n",
       "      <td>cat.55.jpg</td>\n",
       "      <td>cat</td>\n",
       "    </tr>\n",
       "    <tr>\n",
       "      <th>3</th>\n",
       "      <td>dog.6158.jpg</td>\n",
       "      <td>dog</td>\n",
       "    </tr>\n",
       "    <tr>\n",
       "      <th>4</th>\n",
       "      <td>cat.6574.jpg</td>\n",
       "      <td>cat</td>\n",
       "    </tr>\n",
       "  </tbody>\n",
       "</table>\n",
       "</div>"
      ],
      "text/plain": [
       "           file label\n",
       "0  cat.3136.jpg   cat\n",
       "1   cat.719.jpg   cat\n",
       "2    cat.55.jpg   cat\n",
       "3  dog.6158.jpg   dog\n",
       "4  cat.6574.jpg   cat"
      ]
     },
     "execution_count": 8,
     "metadata": {},
     "output_type": "execute_result"
    }
   ],
   "source": [
    "train_df = pd.DataFrame({\"file\": os.listdir(\"../data/dogs-vs-cats/train\")})\n",
    "train_df[\"label\"] = train_df[\"file\"].apply(lambda x:x.split(\".\")[0])\n",
    "\n",
    "train_df.head()"
   ]
  },
  {
   "cell_type": "code",
   "execution_count": 9,
   "metadata": {},
   "outputs": [
    {
     "data": {
      "text/html": [
       "<div>\n",
       "<style scoped>\n",
       "    .dataframe tbody tr th:only-of-type {\n",
       "        vertical-align: middle;\n",
       "    }\n",
       "\n",
       "    .dataframe tbody tr th {\n",
       "        vertical-align: top;\n",
       "    }\n",
       "\n",
       "    .dataframe thead th {\n",
       "        text-align: right;\n",
       "    }\n",
       "</style>\n",
       "<table border=\"1\" class=\"dataframe\">\n",
       "  <thead>\n",
       "    <tr style=\"text-align: right;\">\n",
       "      <th></th>\n",
       "      <th>file</th>\n",
       "    </tr>\n",
       "  </thead>\n",
       "  <tbody>\n",
       "    <tr>\n",
       "      <th>0</th>\n",
       "      <td>10933.jpg</td>\n",
       "    </tr>\n",
       "    <tr>\n",
       "      <th>1</th>\n",
       "      <td>6859.jpg</td>\n",
       "    </tr>\n",
       "    <tr>\n",
       "      <th>2</th>\n",
       "      <td>1849.jpg</td>\n",
       "    </tr>\n",
       "    <tr>\n",
       "      <th>3</th>\n",
       "      <td>8580.jpg</td>\n",
       "    </tr>\n",
       "    <tr>\n",
       "      <th>4</th>\n",
       "      <td>7862.jpg</td>\n",
       "    </tr>\n",
       "  </tbody>\n",
       "</table>\n",
       "</div>"
      ],
      "text/plain": [
       "        file\n",
       "0  10933.jpg\n",
       "1   6859.jpg\n",
       "2   1849.jpg\n",
       "3   8580.jpg\n",
       "4   7862.jpg"
      ]
     },
     "execution_count": 9,
     "metadata": {},
     "output_type": "execute_result"
    }
   ],
   "source": [
    "test_df = pd.DataFrame({\"file\": os.listdir(\"../data/dogs-vs-cats/test1\")})\n",
    "test_df.head()"
   ]
  },
  {
   "cell_type": "code",
   "execution_count": 10,
   "metadata": {},
   "outputs": [],
   "source": [
    "from sklearn.model_selection import train_test_split  \n",
    "train_data, val_data = train_test_split(train_df, test_size = 0.2,\n",
    "                                        stratify = train_df[\"label\"],\n",
    "                                        random_state = 13)"
   ]
  },
  {
   "cell_type": "code",
   "execution_count": 11,
   "metadata": {},
   "outputs": [],
   "source": [
    "train_datagen = ImageDataGenerator(\n",
    "    rotation_range = 15,\n",
    "    horizontal_flip = True,\n",
    "    preprocessing_function = preprocess_input\n",
    ")\n",
    "val_datagen = ImageDataGenerator(preprocessing_function = preprocess_input)"
   ]
  },
  {
   "cell_type": "code",
   "execution_count": 12,
   "metadata": {},
   "outputs": [
    {
     "name": "stdout",
     "output_type": "stream",
     "text": [
      "Found 20000 validated image filenames belonging to 2 classes.\n"
     ]
    }
   ],
   "source": [
    "FILES = '../data/dogs-vs-cats/'\n",
    "batch_size = 160\n",
    "train_generator = train_datagen.flow_from_dataframe(\n",
    "    dataframe = train_data,\n",
    "    directory = FILES + \"train/\",\n",
    "    x_col = \"file\",\n",
    "    y_col = \"label\",\n",
    "    class_mode = \"categorical\",\n",
    "    target_size = (224, 224),\n",
    "    batch_size = batch_size,\n",
    "    seed = 13\n",
    ")"
   ]
  },
  {
   "cell_type": "code",
   "execution_count": 14,
   "metadata": {},
   "outputs": [
    {
     "name": "stdout",
     "output_type": "stream",
     "text": [
      "Found 5000 validated image filenames belonging to 2 classes.\n"
     ]
    }
   ],
   "source": [
    "val_generator = val_datagen.flow_from_dataframe(\n",
    "    dataframe = val_data,\n",
    "    directory = FILES + \"train/\",\n",
    "    x_col = \"file\",\n",
    "    y_col = \"label\",\n",
    "    class_mode = \"categorical\",\n",
    "    target_size = (224, 224),\n",
    "    batch_size = batch_size,\n",
    "    seed = 13,\n",
    "    shuffle = False\n",
    ")"
   ]
  },
  {
   "cell_type": "code",
   "execution_count": 15,
   "metadata": {},
   "outputs": [],
   "source": [
    "base_model = VGG16(\n",
    "    weights = \"imagenet\",\n",
    "    input_shape = (224, 224, 3),\n",
    "    include_top = False\n",
    ")"
   ]
  },
  {
   "cell_type": "code",
   "execution_count": null,
   "metadata": {},
   "outputs": [],
   "source": [
    "base_model.summary()"
   ]
  },
  {
   "cell_type": "code",
   "execution_count": null,
   "metadata": {},
   "outputs": [],
   "source": [
    "for layers in base_model.layers:\n",
    "    layers.trainable = False\n",
    "base_model.summary()"
   ]
  },
  {
   "cell_type": "code",
   "execution_count": null,
   "metadata": {},
   "outputs": [],
   "source": [
    "def vgg16_pretrained():\n",
    "    model = Sequential(\n",
    "        [\n",
    "            base_model,\n",
    "            GlobalAveragePooling2D(),\n",
    "            Dense(100, activation = \"relu\"),\n",
    "            Dropout(0.4),\n",
    "            Dense(64, activation = \"relu\"),\n",
    "            Dense(2, activation = \"softmax\")\n",
    "        ]\n",
    "    )    \n",
    "    return model  "
   ]
  },
  {
   "cell_type": "code",
   "execution_count": null,
   "metadata": {},
   "outputs": [],
   "source": [
    "tf.keras.backend.clear_session()"
   ]
  },
  {
   "cell_type": "code",
   "execution_count": null,
   "metadata": {},
   "outputs": [],
   "source": [
    "model = vgg16\n",
    "model.compile(loss = \"categorical_crossentropy\",\n",
    "                  optimizer = \"adam\",\n",
    "                  metrics = \"accuracy\"\n",
    "                  )\n",
    "model.summary()"
   ]
  },
  {
   "cell_type": "code",
   "execution_count": null,
   "metadata": {},
   "outputs": [],
   "source": [
    "reduce_lr = tf.keras.callbacks.ReduceROnPlateau(\n",
    "    monitor = \"val_accuracy\",\n",
    "    patience = 2,\n",
    "    verbose = 1,\n",
    "    factor = 0.5,\n",
    "    min_lr = 0.000000001\n",
    ")"
   ]
  },
  {
   "cell_type": "code",
   "execution_count": null,
   "metadata": {},
   "outputs": [],
   "source": [
    "early_stopping = tf.keras.callbacks.Earlystopping(\n",
    "    monitor = \"val_accuracy\",\n",
    "    patience = 5,\n",
    "    verbose = 1,\n",
    "    mode = \"max\"\n",
    ")"
   ]
  },
  {
   "cell_type": "code",
   "execution_count": null,
   "metadata": {},
   "outputs": [],
   "source": [
    "checkpoint = tf.keras.cdallbacks.ModelCheckpoint(\n",
    "    monitor = \"val_accuracy\",\n",
    "    filepath = \"catdog_vgg16_.{epoch:02d}-{val_accuracy:.6f}.hdf5\",\n",
    "    verbose = 1,\n",
    "    save_best_only = True,\n",
    "    save_weights_only = True\n",
    ")"
   ]
  },
  {
   "cell_type": "code",
   "execution_count": null,
   "metadata": {},
   "outputs": [],
   "source": [
    "history = model.fit(\n",
    "    train_generator,\n",
    "    epochs = 10,\n",
    "    validation_data = val_generator,\n",
    "    validation_steps = val_data.shape[0]\n",
    "    steps_per_epoch = train_data.shape[0]\n",
    "    callbacks = [reduce_lr, early_stopping, cbheckpoint]\n",
    ")"
   ]
  },
  {
   "cell_type": "code",
   "execution_count": null,
   "metadata": {},
   "outputs": [],
   "source": [
    "import matplotlib.pyplot as plt  \n",
    "import seaborn as sns  \n",
    "\n",
    "fig, axes = plt.subplots(1, 2, figsize = (12, 4))\n",
    "sns.lineplot(x = range(len(history.history[\"loss\"])),\n",
    "             y = history.history[\"loss\"], ax = axes[0]\n",
    "             label = \"Training Loss\")\n",
    "sns.lineplot(x = range(len(history.history[\"loss\"])),\n",
    "             y = history.history[\"loss\"], ax = axes[0]\n",
    "             label = \"Validation Loss\")\n",
    "sns.lineplot(x = range(len(history.history[\"accuracy\"])),\n",
    "             y = history.history[\"accuracy\"], ax = axes[1]\n",
    "             label = \"Training Accuracy\")\n",
    "sns.lineplot(x = range(len(history.history[\"accuracy\"])),\n",
    "             y = history.history[\"val_accuracy\"], ax = axes[1]\n",
    "             label = \"Validation Accuracy\")\n",
    "axes[0].set_title(\"Loss\"); axes[1].set_title(\"Accuracy\")\n",
    "sns.dispine()\n",
    "plt.show()"
   ]
  },
  {
   "cell_type": "code",
   "execution_count": null,
   "metadata": {},
   "outputs": [],
   "source": [
    "val_pred = model.predict(val_generator,\n",
    "                         steps = np.ceil(val_data.shape[0]/batch_size))\n",
    "val_data.loc[:, \"val_pred\"] = np.argmax(val_pred, axis = 1)\n",
    "labels = dict((v, k) for k , v in val_generator.class_indices.items())\n",
    "val_data.loc[:, \"val_pred\"] = val_data.loc[:, \"val_pred\"].map(labels)"
   ]
  },
  {
   "cell_type": "code",
   "execution_count": null,
   "metadata": {},
   "outputs": [],
   "source": [
    "from sklearn.metrics import confusion_matrix  \n",
    "from sklearn.metrics import ConfusionMatrixDisplay  \n",
    "\n",
    "fig, ax = plt.subplots(figsize = (9, 6))\n",
    "cm = confusion_matrix(val_data[\"label\"], val_data[\"val_pred\"])\n",
    "disp = ConfusionMatrixDisplay(confusion_matrix = cm, display_labels = [\"cat\", \"dog\"])\n",
    "disp.plot(cmap = plt.cm.Blues, ax = ax)\n",
    "\n",
    "ax.set_title(\"Validation Set\")\n",
    "plt.show()"
   ]
  },
  {
   "cell_type": "code",
   "execution_count": null,
   "metadata": {},
   "outputs": [],
   "source": [
    "val_errors = val_data[(val_data.label) != (val_data.val_pred)].reset_index(drop = True)\n",
    "val_errors"
   ]
  },
  {
   "cell_type": "code",
   "execution_count": null,
   "metadata": {},
   "outputs": [],
   "source": [
    "fig = plt.figure(1, figsize = (24, 20))\n",
    "for i in range(81):\n",
    "    if i == len(val_errors):\n",
    "        break\n",
    "    plt.subplot(9, 9, i+1)\n",
    "    image = plt.imread(\"./dogs-vs-cats/train/\" + val_errors.file[i])\n",
    "    plt.imshow(image)\n",
    "    plt.axis(\"off\")\n",
    "    plt.title(f\"True Value: {val_errors['label'][i]} \\nPrediction:\n",
    "    {val_errors['val_pred'][i]}\")\n",
    "plt.tight_layout()\n",
    "plt.show()"
   ]
  },
  {
   "cell_type": "code",
   "execution_count": null,
   "metadata": {},
   "outputs": [],
   "source": [
    "x"
   ]
  }
 ],
 "metadata": {
  "kernelspec": {
   "display_name": "DeepLearning",
   "language": "python",
   "name": "python3"
  },
  "language_info": {
   "codemirror_mode": {
    "name": "ipython",
    "version": 3
   },
   "file_extension": ".py",
   "mimetype": "text/x-python",
   "name": "python",
   "nbconvert_exporter": "python",
   "pygments_lexer": "ipython3",
   "version": "3.10.12"
  }
 },
 "nbformat": 4,
 "nbformat_minor": 2
}
